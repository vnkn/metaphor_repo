{
 "cells": [
  {
   "cell_type": "code",
   "execution_count": 1,
   "id": "60985ffc",
   "metadata": {},
   "outputs": [],
   "source": [
    "import os\n",
    "import openai\n",
    "from dotenv import load_dotenv\n",
    "import json\n",
    "from bs4 import BeautifulSoup\n",
    "import html\n",
    "from html.parser import HTMLParser\n",
    "import pandas as pd\n",
    "from metaphor_python import Metaphor\n",
    "import gpt_metaphor_table_generation\n",
    "import asyncio\n",
    "\n",
    "import importlib\n",
    "importlib.reload(gpt_metaphor_table_generation)\n",
    "\n",
    "from flask import Flask\n",
    "import threading\n",
    "import threading\n",
    "import json\n",
    "from flask import Flask, request, jsonify\n",
    "import pandas as pd  # Assuming pandas is used somewhere in your app\n",
    "import time\n",
    "import requests\n",
    "\n",
    "app = Flask(__name__)"
   ]
  },
  {
   "cell_type": "code",
   "execution_count": 2,
   "id": "bc006c3a",
   "metadata": {},
   "outputs": [],
   "source": [
    "# Quick snippet of code to parse secrets.\n",
    "def parse_secrets(filename):\n",
    "    secrets = {}\n",
    "    with open(filename, 'r') as f:\n",
    "        for line in f:\n",
    "            if line.strip():  # checking if line is not empty\n",
    "                key, value = line.strip().split(' = ', 1)  # split only at the first '='\n",
    "                secrets[key] = value\n",
    "    return secrets\n",
    "\n",
    "secrets_data = parse_secrets('secrets.txt')\n",
    "\n",
    "client = Metaphor(api_key= secrets_data['METAPHOR_KEY'])\n",
    "load_dotenv()\n",
    "openai.api_key = os.getenv('OPENAI_API_KEY') or secrets_data['OPENAI_KEY']\n"
   ]
  },
  {
   "cell_type": "markdown",
   "id": "6dc0cc7e",
   "metadata": {},
   "source": [
    "# With Parallelization: 35 seconds"
   ]
  },
  {
   "cell_type": "markdown",
   "id": "f840a46f",
   "metadata": {},
   "source": [
    "from flask import Flask, request, jsonify\n",
    "import threading\n",
    "import requests\n",
    "import time\n",
    "\n",
    "app = Flask(__name__)\n",
    "last_posted_data = {}  # Initializing global variable as dictionary\n",
    "\n",
    "@app.route('/', methods=['GET', 'POST'])\n",
    "def research_querying():\n",
    "    \"\"\"\n",
    "    Handle GET and POST requests to the root endpoint of the server.\n",
    "    \n",
    "    :param q: Query parameter representing the query string, extracted from the request URL.\n",
    "    :type q: str\n",
    "    \n",
    "    :param c: Optional query parameter representing columns, extracted from the request URL.\n",
    "              It should be a string where different column names are separated by underscores ('_').\n",
    "    :type c: str, optional\n",
    "    \n",
    "    :return: JSON response containing either the response data or an error message.\n",
    "    :rtype: JSON\n",
    "    \n",
    "    :Example for GET request: \n",
    "        GET /?q=query_string&c=column1_column2\n",
    "        where `query_string` represents the string to be queried and \n",
    "        `column1_column2` represents two columns, column1 and column2.\n",
    "        \n",
    "    :Example for POST request:\n",
    "        POST / with JSON body containing the required data and \n",
    "        optional query parameters in the URL for 'q' and 'c' as explained above in GET request example.\n",
    "    \"\"\"        \n",
    "\n",
    "    try:\n",
    "        #print(request)\n",
    "        param = request.args.get('q')\n",
    "        \n",
    "        # Extract columns from the request args\n",
    "        columns_str = request.args.get('c')\n",
    "        #print(columns_str)\n",
    "        columns = None  # Set a default value for columns\n",
    "        if columns_str:\n",
    "            try:\n",
    "                # Try to parse the columns string as a list\n",
    "                columns = columns_str.split('_')  # Convert the string to a list by splitting on '_'\n",
    "            except Exception as e:\n",
    "                # Log the error but continue with columns as None\n",
    "                print(f'Invalid columns parameter: {str(e)}, proceeding with columns as None.')\n",
    "                columns = None\n",
    "        #print(columns)\n",
    "        if request.method == 'POST':\n",
    "            if request.data:  \n",
    "                try:\n",
    "                    data = request.json\n",
    "                except Exception as e:\n",
    "                    return jsonify({'error': f'Invalid JSON: {str(e)}'}), 400\n",
    "            \n",
    "            client = Metaphor(api_key=secrets_data['METAPHOR_KEY'])\n",
    "            print(param)\n",
    "            # Pass columns to get_responses\n",
    "            responses_json = gpt_metaphor_table_generation.get_responses(client, param, columns=columns, parallel=True)\n",
    "            last_posted_data[param] = json.loads(responses_json)\n",
    "            return jsonify({'responses': last_posted_data[param]})\n",
    "        \n",
    "        elif request.method == 'GET':\n",
    "            return jsonify(last_posted_data.get(param, {'error': 'No data available for the given query'}))\n",
    "        \n",
    "    except Exception as e:\n",
    "        return jsonify({'error': str(e)}), 500\n",
    "    \n",
    "def run_flask():\n",
    "    app.run(port=5007, use_reloader=False)\n",
    "\n",
    "\n",
    "if __name__ == '__main__':\n",
    "    threading.Thread(target=run_flask).start()\n",
    "    time.sleep(2)  # Wait for the server to start\n",
    "    \n"
   ]
  },
  {
   "cell_type": "markdown",
   "id": "cd2b9656",
   "metadata": {},
   "source": [
    "# Example 1"
   ]
  },
  {
   "cell_type": "code",
   "execution_count": 27,
   "id": "c3087a58",
   "metadata": {},
   "outputs": [
    {
     "name": "stdout",
     "output_type": "stream",
     "text": [
      "Explain_5_articles_about_fencing\n",
      "time 0 0.0\n",
      "time 1 1.159076452255249\n",
      "time 2 3.596463441848755\n",
      "time 3 4.288355827331543\n",
      "time 4 4.305115461349487\n"
     ]
    },
    {
     "name": "stderr",
     "output_type": "stream",
     "text": [
      "127.0.0.1 - - [23/Sep/2023 11:24:22] \"\u001b[37mPOST /?q=Explain_5_articles_about_fencing HTTP/1.1\u001b[0m\" 200 -\n"
     ]
    },
    {
     "name": "stdout",
     "output_type": "stream",
     "text": [
      "time 5 10.269222021102905\n",
      "{\"responses\":{\"key_columns\":[\"Title\",\"Author\",\"Summary\",\"Publication\",\"Publication Date\"],\"response\":[{\"Author\":\"The author of this article from Fencing.net is not provided.\",\"Publication\":\"Fencing.net has provided a quick guide on how to get started in the sport of fencing. They emphasize that fencing is an accessible sport for people of all ages and abilities, and suggest finding a local fencing club to begin your journey in the sport.\",\"Publication Date\":\"Unfortunately, there is no publication date provided in the HTML of the article.\",\"Summary\":\"Fencing.net provides a guide on how to get started with the sport of fencing, emphasizing that it is an accessible and enjoyable sport for people of all ages and abilities. The guide encourages finding a nearby fencing club to get started and offers tips on selecting\",\"Title\":\"How to Get Started Learning to Fence\",\"url\":\"https://fencing.net/learning-to-fence/\"},{\"Author\":\"The author of this article is not mentioned.\",\"Publication\":\"Fencing is a sport that combines tradition and technology, offering both mental and physical skill and discipline. It is a great way to stay fit, compete, or immerse oneself in the historical appeal of sword fighting. Finding a fencing club that matches your\",\"Publication Date\":\"The publication date of the article is not provided.\",\"Summary\":\"Fencing is an ancient sport that combines tradition and modern technology. It offers a variety of styles and approaches, rooted in the Italian, Spanish, and French schools of fencing. To get started, find a fencing club that aligns with your goals and\",\"Title\":\"Fencing: A Guide to the Sport and its History.\",\"url\":\"https://simple.wikipedia.org/wiki/Fencing\"},{\"Author\":\"Out of Nowhere Fencing\",\"Publication\":\"Out of Nowhere Fencing is a fencing club that is a proud member of the United States Fencing Association. They offer fencing training for children, emphasizing the physical and cognitive benefits, such as improving strategy, reflexes, sportsmanship, self-disc\",\"Publication Date\":\"The publication date of this article is not provided.\",\"Summary\":\"Fencing is a sport that combines tradition with modern technology and offers benefits such as physical fitness, mental and physical skill development, and the opportunity to participate in competitions or historical reenactments. Finding a fencing club that aligns with your goals and\",\"Title\":\"Finding the Right Fencing Club for You\",\"url\":\"https://www.swordsmen101.com/WhyFencing_forparents.html\"},{\"Author\":\"The article does not have a clear author identified.\",\"Publication\":\"The Washington Post is reporting on how fencing, a sport that requires quick decision-making, may improve cognitive function and help stave off certain mental declines associated with aging. Research suggests that activities like fencing, which require quick thinking and adaptation, can improve cognition\",\"Publication Date\":\"Unfortunately, the publication date is not provided in the article.\",\"Summary\":\"Research suggests that fencing and other sports that require quick decision-making may improve cognition in both young and old people, and help stave off certain mental declines associated with aging. Fencing, in particular, is associated with improvement in attention and processing.\",\"Title\":\"Fencing May Improve Cognitive Health and Slow Aging, According to Research\",\"url\":\"https://www.washingtonpost.com/national/health-science/this-is-your-brain-on-fencing-how-certain-sports-may-aid-the-aging-brain/2015/04/06/92b70970-c98c-11e4-b2a1-bed1aaea2816_story.html\"},{\"Author\":\"The author of this article is wikiHow.\",\"Publication\":\"How to Find an Apartment in New York City:\\nFinding an apartment in New York City can be overwhelming, but with some research and planning, you can find the right place for you. Start by determining your budget and desired neighborhood, then use online listings\",\"Publication Date\":\"The publication date of this article is not provided.\",\"Summary\":\"If you're interested in starting fencing, there are a few steps you can take to get started. First, decide why you want to fence, whether it's for fitness, competition, or historical appeal. Then, research the different types of fencing and\",\"Title\":\"Finding a Fencing Club: How to Get Started with Fencing\",\"url\":\"https://www.wikihow.com/Learn-to-Fence\"}]}}\n"
     ]
    },
    {
     "name": "stderr",
     "output_type": "stream",
     "text": [
      "  % Total    % Received % Xferd  Average Speed   Time    Time     Time  Current\n",
      "                                 Dload  Upload   Total   Spent    Left  Speed\n",
      "\n",
      "  0     0    0     0    0     0      0      0 --:--:-- --:--:-- --:--:--     0\n",
      "  0     0    0     0    0     0      0      0 --:--:--  0:00:01 --:--:--     0\n",
      "  0     0    0     0    0     0      0      0 --:--:--  0:00:02 --:--:--     0\n",
      "  0     0    0     0    0     0      0      0 --:--:--  0:00:03 --:--:--     0\n",
      "  0     0    0     0    0     0      0      0 --:--:--  0:00:04 --:--:--     0\n",
      "  0     0    0     0    0     0      0      0 --:--:--  0:00:05 --:--:--     0\n",
      "  0     0    0     0    0     0      0      0 --:--:--  0:00:06 --:--:--     0\n",
      "  0     0    0     0    0     0      0      0 --:--:--  0:00:07 --:--:--     0\n",
      "  0     0    0     0    0     0      0      0 --:--:--  0:00:08 --:--:--     0\n",
      "  0     0    0     0    0     0      0      0 --:--:--  0:00:09 --:--:--     0\n",
      "  0     0    0     0    0     0      0      0 --:--:--  0:00:09 --:--:--     0\n",
      "  0     0    0     0    0     0      0      0 --:--:--  0:00:10 --:--:--     0\n",
      "100  4323  100  4323    0     0    406      0  0:00:10  0:00:10 --:--:--  1294\n"
     ]
    }
   ],
   "source": [
    "\n",
    "!curl -X POST \"https://062e-73-162-128-8.ngrok-free.app/?q=Explain_5_articles_about_fencing\""
   ]
  },
  {
   "cell_type": "markdown",
   "id": "6eb50d42",
   "metadata": {},
   "source": [
    "# Example 2: Incorporating the Functionality to add columns"
   ]
  },
  {
   "cell_type": "code",
   "execution_count": 24,
   "id": "c887677f",
   "metadata": {},
   "outputs": [
    {
     "name": "stdout",
     "output_type": "stream",
     "text": [
      "Explain_5_articles_about_fencing\n",
      "time 0 0.0\n",
      "time 1 0.8550429344177246\n",
      "time 2 3.271121025085449\n",
      "time 3 3.5220956802368164\n",
      "time 4 3.53004789352417\n"
     ]
    },
    {
     "name": "stderr",
     "output_type": "stream",
     "text": [
      "127.0.0.1 - - [22/Sep/2023 18:52:32] \"\u001b[37mPOST /?q=Explain_5_articles_about_fencing&c=information_upsides_downsides HTTP/1.1\u001b[0m\" 200 -\n"
     ]
    },
    {
     "name": "stdout",
     "output_type": "stream",
     "text": [
      "time 5 6.25663423538208\n",
      "{\"responses\":{\"key_columns\":[\"information\",\"upsides\",\"downsides\"],\"response\":[{\"downsides\":\"Downsides of fencing:\\n1. Fencing can be a dangerous sport, with the risk of injuries from swordplay.\\n2. Fencing requires specialized equipment, which can be expensive.\",\"information\":\"When deciding to try fencing, it is important to first determine your purpose for wanting to fence, such as for fitness, competition, or historical interest. Fencing has different styles and approaches, so it is beneficial to research the different types and their histories\",\"upsides\":\"1. Fencing is a great way to get fit and improve your physical and mental skills. It is also a fun and enjoyable sport for both casual and competitive fencers. \\n\\n2. Fencing has strong traditions and different schools with unique styles and\",\"url\":\"https://www.wikihow.com/Learn-to-Fence\"},{\"downsides\":\"1. The rules of fencing have become complex and may require significant time and effort to fully understand and navigate.\\n2. Fencing equipment and training can be expensive, which may serve as a barrier to entry for some.\\n3. Fencing is an\",\"information\":\"Fencing is a sport that offers physical and cognitive benefits, such as strategy and quick reflexes, good sportsmanship, self-discipline, and the ability to make quick decisions. Fencing can also enhance mathematical performance and help individuals with ADD and ADHD\",\"upsides\":\"- Fencing is a great way to learn both mental and physical skill and discipline.\\n- Fencing provides physical and cognitive benefits, such as strategy development and quick reflexes.\\n- Fencing helps children learn good sportsmanship, self-discipline, and\",\"url\":\"https://dukecityfencing.net/why-fencing-is-the-best-sport-for-your-kids\"},{\"downsides\":\"Some downsides of fencing include the potential for injuries, especially if safety guidelines are not properly enforced, and the fact that it can be expensive to participate in, with costs for equipment and club fees.\",\"information\":\"Fencing is an ancient art that combines mental and physical skill and discipline, making it a great way to stay fit, compete, or explore historical appeal. There are different types of fencing with distinct styles and approaches, such as Italian, Spanish, and\",\"upsides\":\"Upsides of Fencing:\\n\\n1. Fencing provides physical and cognitive benefits, improving strategy, reflexes, sportsmanship, self-discipline, and decision-making abilities.\\n2. Fencing helps children stay active and get fit while also enhancing mathematical performance\",\"url\":\"https://www.swordsmen101.com/WhyFencing_forparents.html\"},{\"downsides\":\"Downsides: \\n1. Fencing clubs may not be easily accessible for everyone, making it difficult for some people to participate regularly.\\n2. Fencing can be an expensive sport, with costs for equipment, lessons, and membership fees adding up\",\"information\":\"If you're interested in learning how to fence, it's important to decide why you want to fence, research different styles and schools of fencing, and find a fencing club or school near you that aligns with your goals and safety standards. Fencing\",\"upsides\":\"The article discusses the benefits of fencing, including physical and cognitive benefits such as improving concentration, reflexes, decision-making abilities, and self-discipline. It also mentions that fencing can enhance mathematical performance and is a great way for children to learn about competition\",\"url\":\"https://fencing.net/learning-to-fence/\"},{\"downsides\":\"1. Fencing can be a physically demanding and intense sport, which may not be suitable for everyone, especially those who are not fond of competitive activities.\\n2. Finding a suitable fencing club or school may not be easy, as there may be limited\",\"information\":\"Fencing is a traditional and exciting sport that combines old traditions with modern technology. There are different schools of fencing with distinct styles and approaches, and it can be pursued for fitness, competition, or historical appeal. To get started, research and find a\",\"upsides\":\"1. Fencing is a great way to learn both mental and physical skill and discipline, providing both fitness and competition opportunities.\\n2. Fencing has strong traditions and distinct schools with different styles, providing a rich and diverse experience for participants.\\n3.\",\"url\":\"https://www.articlesfactory.com/tag/fencing-ideas.html\"}]}}\n"
     ]
    },
    {
     "name": "stderr",
     "output_type": "stream",
     "text": [
      "  % Total    % Received % Xferd  Average Speed   Time    Time     Time  Current\n",
      "                                 Dload  Upload   Total   Spent    Left  Speed\n",
      "\n",
      "  0     0    0     0    0     0      0      0 --:--:-- --:--:-- --:--:--     0\n",
      "  0     0    0     0    0     0      0      0 --:--:--  0:00:01 --:--:--     0\n",
      "  0     0    0     0    0     0      0      0 --:--:--  0:00:02 --:--:--     0\n",
      "  0     0    0     0    0     0      0      0 --:--:--  0:00:03 --:--:--     0\n",
      "  0     0    0     0    0     0      0      0 --:--:--  0:00:04 --:--:--     0\n",
      "  0     0    0     0    0     0      0      0 --:--:--  0:00:05 --:--:--     0\n",
      "  0     0    0     0    0     0      0      0 --:--:--  0:00:06 --:--:--     0\n",
      "100  4392  100  4392    0     0    676      0  0:00:06  0:00:06 --:--:--  1041\n"
     ]
    }
   ],
   "source": [
    "!curl -X POST \"https://062e-73-162-128-8.ngrok-free.app/?q=Explain_5_articles_about_fencing&c=information_upsides_downsides\""
   ]
  },
  {
   "cell_type": "markdown",
   "id": "145907fc",
   "metadata": {},
   "source": [
    "# Example 3: Website Landing Page"
   ]
  },
  {
   "cell_type": "code",
   "execution_count": 28,
   "id": "61996937",
   "metadata": {},
   "outputs": [
    {
     "name": "stdout",
     "output_type": "stream",
     "text": [
      "Give_me_some_hot_startups_and_what_they_do\n",
      "time 0 0.0\n",
      "time 1 1.817631483078003\n",
      "time 2 3.9386324882507324\n",
      "time 3 4.599684953689575\n",
      "time 4 4.6334428787231445\n"
     ]
    },
    {
     "name": "stderr",
     "output_type": "stream",
     "text": [
      "127.0.0.1 - - [23/Sep/2023 11:25:00] \"\u001b[37mPOST /?q=Give_me_some_hot_startups_and_what_they_do HTTP/1.1\u001b[0m\" 200 -\n"
     ]
    },
    {
     "name": "stdout",
     "output_type": "stream",
     "text": [
      "time 5 8.72074580192566\n",
      "{\"responses\":{\"key_columns\":[\"Startup Name\",\"Industry\",\"Description\"],\"response\":[{\"Description\":\"Lumiata is a startup focused on precision medicine for Africans and the global population, using high throughput cell design for therapeutic applications.\",\"Industry\":\"The industry of this startup is precision medicine.\",\"Startup Name\":\"Serenade is a startup that uses artificial intelligence to generate personalized songs for special occasions.\",\"url\":\"https://www.startupintel.dev/\"},{\"Description\":\"Climate Tech List is a platform that offers resources for founders working on climate tech companies. They suggest using low code/no-code platforms like Airtable or Softr to build tools and provide examples of climate tech projects built with Softr. They also recommend resources\",\"Industry\":\"The industry of the article is Climate Tech.\",\"Startup Name\":\"Airtable\",\"url\":\"https://www.climatetechlist.com/\"},{\"Description\":\"Aalto is a real estate marketplace that connects homebuyers directly with homeowners, bypassing traditional listing services and improving the experience of selling and buying a home. Backbone is an accessory that turns an iPhone into a game controller, offering a new and immersive\",\"Industry\":\"The industry of the recommended startup Aalto is real estate marketplace for properties, where homebuyers can connect directly with homeowners looking to sell their properties.\",\"Startup Name\":\"Aalto is a real-estate marketplace that connects homebuyers directly with homeowners looking to sell their properties. They aim to disrupt the residential-real-estate market by improving the experience of selling and buying a home.\",\"url\":\"https://angel.co/startups\"},{\"Description\":\"Aalto is a real-estate marketplace that connects homebuyers directly with homeowners looking to sell their properties, bypassing the traditional multiple-listings service. Backbone is an accessory that turns an iPhone into a game controller, enhancing the gaming experience.\",\"Industry\":\"Real Estate, Gaming\",\"Startup Name\":\"Aalto is a real-estate marketplace that connects homebuyers directly with homeowners looking to sell their properties. It aims to disrupt the residential-real-estate market by improving the experience of selling and buying a home.\",\"url\":\"https://www.businessinsider.com/most-promising-consumer-tech-startups-of-2022-8\"},{\"Description\":\"Maasive is a website that provides resources and tools for founders and individuals interested in climate tech, including low code/no code platforms, guides, example templates, and recommended articles and podcasts.\",\"Industry\":\"The industry of Maasive is climate tech.\",\"Startup Name\":\"Maasive, a low-code/no-code platform, provides tools for climate tech companies to build their own tools and solutions for environmental impact.\",\"url\":\"https://joinmaasive.com/\"}]}}\n"
     ]
    },
    {
     "name": "stderr",
     "output_type": "stream",
     "text": [
      "  % Total    % Received % Xferd  Average Speed   Time    Time     Time  Current\n",
      "                                 Dload  Upload   Total   Spent    Left  Speed\n",
      "\n",
      "  0     0    0     0    0     0      0      0 --:--:-- --:--:-- --:--:--     0\n",
      "  0     0    0     0    0     0      0      0 --:--:-- --:--:-- --:--:--     0\n",
      "  0     0    0     0    0     0      0      0 --:--:--  0:00:01 --:--:--     0\n",
      "  0     0    0     0    0     0      0      0 --:--:--  0:00:02 --:--:--     0\n",
      "  0     0    0     0    0     0      0      0 --:--:--  0:00:03 --:--:--     0\n",
      "  0     0    0     0    0     0      0      0 --:--:--  0:00:04 --:--:--     0\n",
      "  0     0    0     0    0     0      0      0 --:--:--  0:00:05 --:--:--     0\n",
      "  0     0    0     0    0     0      0      0 --:--:--  0:00:06 --:--:--     0\n",
      "  0     0    0     0    0     0      0      0 --:--:--  0:00:07 --:--:--     0\n",
      "  0     0    0     0    0     0      0      0 --:--:--  0:00:08 --:--:--     0\n",
      "100  2830  100  2830    0     0    308      0  0:00:09  0:00:09 --:--:--   581\n"
     ]
    }
   ],
   "source": [
    "!curl -X POST \"https://062e-73-162-128-8.ngrok-free.app/?q=Give_me_some_hot_startups_and_what_they_do\""
   ]
  },
  {
   "cell_type": "markdown",
   "id": "e9119c1a",
   "metadata": {},
   "source": [
    "# Example 4: Teaching"
   ]
  },
  {
   "cell_type": "code",
   "execution_count": 29,
   "id": "74ee1537",
   "metadata": {},
   "outputs": [
    {
     "name": "stdout",
     "output_type": "stream",
     "text": [
      "Teach_me_some_info_about_tennis\n",
      "time 0 0.0\n",
      "time 1 0.7582008838653564\n",
      "time 2 2.883723735809326\n",
      "time 3 3.4326417446136475\n",
      "time 4 3.4597034454345703\n"
     ]
    },
    {
     "name": "stderr",
     "output_type": "stream",
     "text": [
      "127.0.0.1 - - [23/Sep/2023 11:25:34] \"\u001b[37mPOST /?q=Teach_me_some_info_about_tennis HTTP/1.1\u001b[0m\" 200 -\n"
     ]
    },
    {
     "name": "stdout",
     "output_type": "stream",
     "text": [
      "time 5 5.81346321105957\n",
      "{\"responses\":{\"key_columns\":[\"Tennis Info\"],\"response\":[{\"Tennis Info\":\"Tennis is a sport played with a felt-covered rubber ball, a tennis racket, and a court. The goal is to hit the ball over the net into the other player's court, and points are earned when the opponent is unable to return the\",\"url\":\"https://kids.kiddle.co/Tennis\"},{\"Tennis Info\":\"Tennis is a racket sport played individually or in teams, using a racket to hit a rubber ball over a net into the opponent's court. The objective is to prevent the opponent from returning the ball. It is a popular sport played at all levels\",\"url\":\"https://en.wikipedia.org/wiki/Tennis\"},{\"Tennis Info\":\"The sport of tennis is played with a racket and ball, with the objective being to hit the ball over a net and into the opponent's court in a way that they cannot return it. There are different types of strokes, such as forehand,\",\"url\":\"https://www.conservapedia.com/Tennis\"},{\"Tennis Info\":\"Tennis is a popular sport played with a felt-covered rubber ball, a tennis racket, and a court. It can be played by people of all ages and has various formats, including singles, doubles, and mixed doubles. The sport has a rich\",\"url\":\"https://www.tennis.com.au/learn/what-is-tennis\"},{\"Tennis Info\":\"Tennis is a popular sport played with a felt-covered rubber ball, a tennis racket, and a court. It can be played as singles or doubles on various surfaces such as grass, clay, or hard court. The objective is to hit the ball\",\"url\":\"https://www.topendsports.com/sport/tennis/index.htm\"}]}}\n"
     ]
    },
    {
     "name": "stderr",
     "output_type": "stream",
     "text": [
      "  % Total    % Received % Xferd  Average Speed   Time    Time     Time  Current\n",
      "                                 Dload  Upload   Total   Spent    Left  Speed\n",
      "\n",
      "  0     0    0     0    0     0      0      0 --:--:-- --:--:-- --:--:--     0\n",
      "  0     0    0     0    0     0      0      0 --:--:--  0:00:01 --:--:--     0\n",
      "  0     0    0     0    0     0      0      0 --:--:--  0:00:02 --:--:--     0\n",
      "  0     0    0     0    0     0      0      0 --:--:--  0:00:03 --:--:--     0\n",
      "  0     0    0     0    0     0      0      0 --:--:--  0:00:04 --:--:--     0\n",
      "  0     0    0     0    0     0      0      0 --:--:--  0:00:05 --:--:--     0\n",
      "  0  1538    0     0    0     0      0      0 --:--:--  0:00:06 --:--:--     0\n",
      "100  1538  100  1538    0     0    240      0  0:00:06  0:00:06 --:--:--   384\n"
     ]
    }
   ],
   "source": [
    "!curl -X POST \"https://062e-73-162-128-8.ngrok-free.app/?q=Teach_me_some_info_about_tennis\""
   ]
  },
  {
   "cell_type": "markdown",
   "id": "cdd69573",
   "metadata": {},
   "source": [
    "# Example 5: Emotive"
   ]
  },
  {
   "cell_type": "code",
   "execution_count": 31,
   "id": "f4b5a2f6",
   "metadata": {},
   "outputs": [
    {
     "name": "stdout",
     "output_type": "stream",
     "text": [
      "Tell_me_about_the_hot_trends_in_the_startup_ecosystem\n",
      "time 0 0.0\n",
      "time 1 0.9761343002319336\n",
      "time 2 3.3408405780792236\n",
      "time 3 3.61841082572937\n",
      "time 4 3.648770570755005\n"
     ]
    },
    {
     "name": "stderr",
     "output_type": "stream",
     "text": [
      "127.0.0.1 - - [23/Sep/2023 11:32:17] \"\u001b[37mPOST /?q=Tell_me_about_the_hot_trends_in_the_startup_ecosystem HTTP/1.1\u001b[0m\" 200 -\n"
     ]
    },
    {
     "name": "stdout",
     "output_type": "stream",
     "text": [
      "time 5 6.606754302978516\n",
      "{\"responses\":{\"key_columns\":[\"Trend Name\",\"Description\",\"Market Potential\",\"Key Players\"],\"response\":[{\"Description\":\"In 2023, we can expect to see trends in social commerce, labor marketplaces, mainstream AI adoption, and the unlocking of \\\"third places\\\" as gathering spots outside of home and work. These trends will reshape the way we discover and purchase\",\"Key Players\":\"Key Players: \\n1. Social platforms: With the rise of social commerce and discovery commerce, social platforms will play a crucial role in product discovery and facilitating the purchase process. They will need to create a seamless experience from inspiration to purchase for users.\",\"Market Potential\":\"The market potential for 2023 will be driven by trends such as social commerce, specialized labor marketplaces, mainstream AI adoption, and the unlocking of \\\"third places\\\" for community gatherings outside of home or work.\",\"Trend Name\":\"Trend Name: \\n1. Social Commerce and Video Commerce\\n2. Specialized Labor Marketplaces\\n3. Mainstream AI Adoption\\n4. Unlocking the \\\"Third Place\\\"\",\"url\":\"https://a16z.com/2022/12/15/big-ideas-in-tech-2023/\"},{\"Description\":\"In 2023, we can expect to see breakthroughs in buying, with social platforms becoming natural places for product discovery and video becoming a key tool for selling and educating consumers; labor marketplaces becoming specialized to help employees connect with hiring managers and build\",\"Key Players\":\"Key Players:\\n1. Connie Chan, General Partner, Consumer Team \\n2. Olivia Moore, Partner, Consumer Team \\n3. Bryan Kim, Partner, Consumer Team\",\"Market Potential\":\"The market potential in 2023 includes breakthroughs in buying with the rise of social commerce and video commerce, specialized labor marketplaces to address labor shortages, mainstream adoption of AI technologies, and the unlocking of \\\"third places\\\" for community gatherings in the\",\"Trend Name\":\"Social Commerce and Video Commerce\",\"url\":\"https://www.businessinsider.com/the-most-promising-startups-of-2022-according-to-vcs-2022-9\"},{\"Description\":\"In 2023, there will be a shift towards social commerce and video commerce, with social platforms becoming natural places for product discovery and new companies emerging to help everyday creators sell products and services. Labor marketplaces will also become more specialized, helping employees\",\"Key Players\":\"Key Players:\\n- Connie Chan, general partner, consumer team \\n- Olivia Moore, partner, consumer team \\n- Bryan Kim, partner, consumer team \\n- Ray Oldenburg\\n- Albert Wang\\n- Olivier Pomel\",\"Market Potential\":\"In 2023, the market potential lies in breakthroughs in buying where social commerce and video commerce will become prevalent, labor marketplaces will specialize to address labor shortages, mainstream AI adoption will focus on user behaviors and psychology, and the concept of the\",\"Trend Name\":\"Breakthroughs in Social Commerce\",\"url\":\"https://www.cnbc.com/2023/09/22/new-york-is-a-tech-startup-hotbed-after-almost-a-decade-of-ipos.html\"},{\"Description\":\"In 2023, the following trends are expected: breakthroughs in buying with the rise of social commerce and video commerce, labor marketplaces becoming specialized to help with hiring and retaining talent, mainstream adoption of AI by focusing on user behaviors and psychology,\",\"Key Players\":\"Key Players in Retail AI Startups:\\n\\n1. Afresh: Afresh is a San Francisco-based retail AI startup that helps stores optimize their fresh food supply chains, reducing waste and maximizing availability.\\n\\n2. AiFi: AiFi, based in Santa\",\"Market Potential\":\"In 2023, there is a market potential for breakthroughs in buying, specialized labor marketplaces, mainstream AI adoption, and unlocking the \\\"third place.\\\" These trends include social platforms becoming natural places for product discovery, new labor marketplaces helping employees\",\"Trend Name\":\"Retail AI Startups for Holiday 2022\",\"url\":\"https://venturebeat.com/ai/7-ai-startups-aim-to-give-retailers-a-happy-holiday-season/\"},{\"Description\":\"In 2023, social platforms will become natural places for product discovery, video will be a key tool for selling and educating consumers, labor marketplaces will help employees build identity and reputation, and AI-focused founders will create products that can be readily embraced\",\"Key Players\":\"Key Players: \\n\\n1. Connie Chan: General Partner, Consumer Team\\n2. Olivia Moore: Partner, Consumer Team\\n3. Bryan Kim: Partner, Consumer Team\",\"Market Potential\":\"In 2023, social platforms will become the go-to place for product discovery, making social commerce, discovery commerce, and video commerce the inevitable trends in buying. This will create a new ecosystem where anyone can become a seller and new companies can help\",\"Trend Name\":\"The Trend Name is \\\"Breakthroughs in Buying\\\"\",\"url\":\"https://a16z.com/big-ideas-in-tech-for-2023-an-a16z-omnibus/\"}]}}\n"
     ]
    },
    {
     "name": "stderr",
     "output_type": "stream",
     "text": [
      "  % Total    % Received % Xferd  Average Speed   Time    Time     Time  Current\n",
      "                                 Dload  Upload   Total   Spent    Left  Speed\n",
      "\n",
      "  0     0    0     0    0     0      0      0 --:--:-- --:--:-- --:--:--     0\n",
      "  0     0    0     0    0     0      0      0 --:--:--  0:00:01 --:--:--     0\n",
      "  0     0    0     0    0     0      0      0 --:--:--  0:00:02 --:--:--     0\n",
      "  0     0    0     0    0     0      0      0 --:--:--  0:00:03 --:--:--     0\n",
      "  0     0    0     0    0     0      0      0 --:--:--  0:00:04 --:--:--     0\n",
      "  0     0    0     0    0     0      0      0 --:--:--  0:00:05 --:--:--     0\n",
      "  0     0    0     0    0     0      0      0 --:--:--  0:00:06 --:--:--     0\n",
      "  0     0    0     0    0     0      0      0 --:--:--  0:00:07 --:--:--     0\n",
      "100  4897  100  4897    0     0    687      0  0:00:07  0:00:07 --:--:--  1305\n"
     ]
    }
   ],
   "source": [
    "!curl -X POST \"https://062e-73-162-128-8.ngrok-free.app/?q=Tell_me_about_the_hot_trends_in_the_startup_ecosystem"
   ]
  },
  {
   "cell_type": "code",
   "execution_count": null,
   "id": "b85e949f",
   "metadata": {},
   "outputs": [],
   "source": []
  }
 ],
 "metadata": {
  "kernelspec": {
   "display_name": "Python 3 (ipykernel)",
   "language": "python",
   "name": "python3"
  },
  "language_info": {
   "codemirror_mode": {
    "name": "ipython",
    "version": 3
   },
   "file_extension": ".py",
   "mimetype": "text/x-python",
   "name": "python",
   "nbconvert_exporter": "python",
   "pygments_lexer": "ipython3",
   "version": "3.10.9"
  }
 },
 "nbformat": 4,
 "nbformat_minor": 5
}
